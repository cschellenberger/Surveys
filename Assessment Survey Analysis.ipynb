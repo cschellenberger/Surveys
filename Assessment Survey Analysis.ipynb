{
 "cells": [
  {
   "cell_type": "code",
   "execution_count": 1,
   "metadata": {},
   "outputs": [],
   "source": [
    "import pandas as pd"
   ]
  },
  {
   "cell_type": "code",
   "execution_count": 2,
   "metadata": {},
   "outputs": [
    {
     "data": {
      "text/html": [
       "<div>\n",
       "<style scoped>\n",
       "    .dataframe tbody tr th:only-of-type {\n",
       "        vertical-align: middle;\n",
       "    }\n",
       "\n",
       "    .dataframe tbody tr th {\n",
       "        vertical-align: top;\n",
       "    }\n",
       "\n",
       "    .dataframe thead th {\n",
       "        text-align: right;\n",
       "    }\n",
       "</style>\n",
       "<table border=\"1\" class=\"dataframe\">\n",
       "  <thead>\n",
       "    <tr style=\"text-align: right;\">\n",
       "      <th></th>\n",
       "      <th>ResponseDate</th>\n",
       "      <th>CompletionDate</th>\n",
       "      <th>Q1_Property</th>\n",
       "      <th>Q2_PropType</th>\n",
       "      <th>Q3_CityContact</th>\n",
       "      <th>Agreement_City staff treated me fairly and with respect.</th>\n",
       "      <th>Agreement_City staff were knowledgeable.</th>\n",
       "      <th>Agreement_City staff exceeded my expectations.</th>\n",
       "      <th>Agreement_City staff were responsive.</th>\n",
       "      <th>Agreement_I was able to get service without difficulty.</th>\n",
       "      <th>...</th>\n",
       "      <th>Q10_Own_Business (Source: Profiling Questionnaire 2014)</th>\n",
       "      <th>Q11_Home_Language (Source: Profiling Questionnaire 2014)</th>\n",
       "      <th>Q13_Volunteer (Source: Profiling Questionnaire 2014)</th>\n",
       "      <th>Q14a_Primary_Transportation (Source: Profiling Questionnaire 2014)</th>\n",
       "      <th>Q14b_Secondary_Transportation (Source: Profiling Questionnaire 2014)</th>\n",
       "      <th>Q15_Household_Income (Source: Profiling Questionnaire 2014)</th>\n",
       "      <th>Q16_Education (Source: Profiling Questionnaire 2014)</th>\n",
       "      <th>Q17_City_Employee (Source: Profiling Questionnaire 2014)</th>\n",
       "      <th>FSA (Source: Profiling Questionnaire 2014)</th>\n",
       "      <th>Age_Rollup_Detailed (Source: Profiling Questionnaire 2014)</th>\n",
       "    </tr>\n",
       "  </thead>\n",
       "  <tbody>\n",
       "    <tr>\n",
       "      <th>0</th>\n",
       "      <td>01/09/2018 11:50:00 PM</td>\n",
       "      <td>01/10/2018 12:09:00 AM</td>\n",
       "      <td>Yes</td>\n",
       "      <td>Residential property</td>\n",
       "      <td>I don't recall</td>\n",
       "      <td>NaN</td>\n",
       "      <td>NaN</td>\n",
       "      <td>NaN</td>\n",
       "      <td>NaN</td>\n",
       "      <td>NaN</td>\n",
       "      <td>...</td>\n",
       "      <td>No</td>\n",
       "      <td>English</td>\n",
       "      <td>Yes</td>\n",
       "      <td>Car/truck/Van as DRIVER</td>\n",
       "      <td>Walk</td>\n",
       "      <td>$150,000 and over</td>\n",
       "      <td>College / technical school graduate</td>\n",
       "      <td>No</td>\n",
       "      <td>T6C</td>\n",
       "      <td>50-54</td>\n",
       "    </tr>\n",
       "    <tr>\n",
       "      <th>1</th>\n",
       "      <td>01/13/2018 02:56:00 AM</td>\n",
       "      <td>01/13/2018 03:36:00 AM</td>\n",
       "      <td>Yes</td>\n",
       "      <td>Residential property</td>\n",
       "      <td>I haven’t contacted the City</td>\n",
       "      <td>NaN</td>\n",
       "      <td>NaN</td>\n",
       "      <td>NaN</td>\n",
       "      <td>NaN</td>\n",
       "      <td>NaN</td>\n",
       "      <td>...</td>\n",
       "      <td>No</td>\n",
       "      <td>English</td>\n",
       "      <td>Yes</td>\n",
       "      <td>Car/truck/Van as DRIVER</td>\n",
       "      <td>Car/truck/van as PASSENGER</td>\n",
       "      <td>$80,000 to $99,999</td>\n",
       "      <td>University undergraduate degree</td>\n",
       "      <td>No</td>\n",
       "      <td>T5Y</td>\n",
       "      <td>45-49</td>\n",
       "    </tr>\n",
       "    <tr>\n",
       "      <th>2</th>\n",
       "      <td>01/09/2018 07:13:00 PM</td>\n",
       "      <td>01/09/2018 07:20:00 PM</td>\n",
       "      <td>Yes</td>\n",
       "      <td>Residential property</td>\n",
       "      <td>Within the last three years</td>\n",
       "      <td>4 Somewhat agree</td>\n",
       "      <td>4 Somewhat agree</td>\n",
       "      <td>4 Somewhat agree</td>\n",
       "      <td>4 Somewhat agree</td>\n",
       "      <td>4 Somewhat agree</td>\n",
       "      <td>...</td>\n",
       "      <td>No</td>\n",
       "      <td>English</td>\n",
       "      <td>No</td>\n",
       "      <td>Car/truck/Van as DRIVER</td>\n",
       "      <td>Walk</td>\n",
       "      <td>$80,000 to $99,999</td>\n",
       "      <td>College / technical school graduate</td>\n",
       "      <td>No</td>\n",
       "      <td>T5T</td>\n",
       "      <td>35-39</td>\n",
       "    </tr>\n",
       "    <tr>\n",
       "      <th>3</th>\n",
       "      <td>01/09/2018 06:59:00 PM</td>\n",
       "      <td>01/09/2018 07:06:00 PM</td>\n",
       "      <td>Yes</td>\n",
       "      <td>Residential property</td>\n",
       "      <td>Within the last three years</td>\n",
       "      <td>4 Somewhat agree</td>\n",
       "      <td>5 Strongly agree</td>\n",
       "      <td>4 Somewhat agree</td>\n",
       "      <td>3 Neither agree nor disagree</td>\n",
       "      <td>3 Neither agree nor disagree</td>\n",
       "      <td>...</td>\n",
       "      <td>Yes</td>\n",
       "      <td>English</td>\n",
       "      <td>No</td>\n",
       "      <td>Car/truck/Van as DRIVER</td>\n",
       "      <td>Bicycle</td>\n",
       "      <td>$150,000 and over</td>\n",
       "      <td>Professional school graduate (e.g. medicine, d...</td>\n",
       "      <td>No</td>\n",
       "      <td>T6V</td>\n",
       "      <td>45-49</td>\n",
       "    </tr>\n",
       "    <tr>\n",
       "      <th>4</th>\n",
       "      <td>01/10/2018 05:13:00 AM</td>\n",
       "      <td>01/10/2018 05:29:00 AM</td>\n",
       "      <td>Yes</td>\n",
       "      <td>Residential property</td>\n",
       "      <td>I haven’t contacted the City</td>\n",
       "      <td>NaN</td>\n",
       "      <td>NaN</td>\n",
       "      <td>NaN</td>\n",
       "      <td>NaN</td>\n",
       "      <td>NaN</td>\n",
       "      <td>...</td>\n",
       "      <td>Yes</td>\n",
       "      <td>English</td>\n",
       "      <td>Yes</td>\n",
       "      <td>Car/truck/Van as DRIVER</td>\n",
       "      <td>Only have one mode of transportation</td>\n",
       "      <td>$150,000 and over</td>\n",
       "      <td>College / technical school graduate</td>\n",
       "      <td>No</td>\n",
       "      <td>T6J</td>\n",
       "      <td>70-74</td>\n",
       "    </tr>\n",
       "  </tbody>\n",
       "</table>\n",
       "<p>5 rows × 58 columns</p>\n",
       "</div>"
      ],
      "text/plain": [
       "             ResponseDate          CompletionDate Q1_Property  \\\n",
       "0  01/09/2018 11:50:00 PM  01/10/2018 12:09:00 AM         Yes   \n",
       "1  01/13/2018 02:56:00 AM  01/13/2018 03:36:00 AM         Yes   \n",
       "2  01/09/2018 07:13:00 PM  01/09/2018 07:20:00 PM         Yes   \n",
       "3  01/09/2018 06:59:00 PM  01/09/2018 07:06:00 PM         Yes   \n",
       "4  01/10/2018 05:13:00 AM  01/10/2018 05:29:00 AM         Yes   \n",
       "\n",
       "            Q2_PropType                Q3_CityContact  \\\n",
       "0  Residential property                I don't recall   \n",
       "1  Residential property  I haven’t contacted the City   \n",
       "2  Residential property   Within the last three years   \n",
       "3  Residential property   Within the last three years   \n",
       "4  Residential property  I haven’t contacted the City   \n",
       "\n",
       "  Agreement_City staff treated me fairly and with respect.  \\\n",
       "0                                                NaN         \n",
       "1                                                NaN         \n",
       "2                                   4 Somewhat agree         \n",
       "3                                   4 Somewhat agree         \n",
       "4                                                NaN         \n",
       "\n",
       "  Agreement_City staff were knowledgeable.  \\\n",
       "0                                      NaN   \n",
       "1                                      NaN   \n",
       "2                         4 Somewhat agree   \n",
       "3                         5 Strongly agree   \n",
       "4                                      NaN   \n",
       "\n",
       "  Agreement_City staff exceeded my expectations.  \\\n",
       "0                                            NaN   \n",
       "1                                            NaN   \n",
       "2                               4 Somewhat agree   \n",
       "3                               4 Somewhat agree   \n",
       "4                                            NaN   \n",
       "\n",
       "  Agreement_City staff were responsive.  \\\n",
       "0                                   NaN   \n",
       "1                                   NaN   \n",
       "2                      4 Somewhat agree   \n",
       "3          3 Neither agree nor disagree   \n",
       "4                                   NaN   \n",
       "\n",
       "  Agreement_I was able to get service without difficulty.  \\\n",
       "0                                                NaN        \n",
       "1                                                NaN        \n",
       "2                                   4 Somewhat agree        \n",
       "3                       3 Neither agree nor disagree        \n",
       "4                                                NaN        \n",
       "\n",
       "                             ...                              \\\n",
       "0                            ...                               \n",
       "1                            ...                               \n",
       "2                            ...                               \n",
       "3                            ...                               \n",
       "4                            ...                               \n",
       "\n",
       "  Q10_Own_Business (Source: Profiling Questionnaire 2014)  \\\n",
       "0                                                 No        \n",
       "1                                                 No        \n",
       "2                                                 No        \n",
       "3                                                Yes        \n",
       "4                                                Yes        \n",
       "\n",
       "  Q11_Home_Language (Source: Profiling Questionnaire 2014)  \\\n",
       "0                                            English         \n",
       "1                                            English         \n",
       "2                                            English         \n",
       "3                                            English         \n",
       "4                                            English         \n",
       "\n",
       "  Q13_Volunteer (Source: Profiling Questionnaire 2014)  \\\n",
       "0                                                Yes     \n",
       "1                                                Yes     \n",
       "2                                                 No     \n",
       "3                                                 No     \n",
       "4                                                Yes     \n",
       "\n",
       "  Q14a_Primary_Transportation (Source: Profiling Questionnaire 2014)  \\\n",
       "0                            Car/truck/Van as DRIVER                   \n",
       "1                            Car/truck/Van as DRIVER                   \n",
       "2                            Car/truck/Van as DRIVER                   \n",
       "3                            Car/truck/Van as DRIVER                   \n",
       "4                            Car/truck/Van as DRIVER                   \n",
       "\n",
       "  Q14b_Secondary_Transportation (Source: Profiling Questionnaire 2014)  \\\n",
       "0                                               Walk                     \n",
       "1                         Car/truck/van as PASSENGER                     \n",
       "2                                               Walk                     \n",
       "3                                            Bicycle                     \n",
       "4               Only have one mode of transportation                     \n",
       "\n",
       "  Q15_Household_Income (Source: Profiling Questionnaire 2014)  \\\n",
       "0                                  $150,000 and over            \n",
       "1                                 $80,000 to $99,999            \n",
       "2                                 $80,000 to $99,999            \n",
       "3                                  $150,000 and over            \n",
       "4                                  $150,000 and over            \n",
       "\n",
       "  Q16_Education (Source: Profiling Questionnaire 2014)  \\\n",
       "0                College / technical school graduate     \n",
       "1                    University undergraduate degree     \n",
       "2                College / technical school graduate     \n",
       "3  Professional school graduate (e.g. medicine, d...     \n",
       "4                College / technical school graduate     \n",
       "\n",
       "  Q17_City_Employee (Source: Profiling Questionnaire 2014)  \\\n",
       "0                                                 No         \n",
       "1                                                 No         \n",
       "2                                                 No         \n",
       "3                                                 No         \n",
       "4                                                 No         \n",
       "\n",
       "  FSA (Source: Profiling Questionnaire 2014)  \\\n",
       "0                                        T6C   \n",
       "1                                        T5Y   \n",
       "2                                        T5T   \n",
       "3                                        T6V   \n",
       "4                                        T6J   \n",
       "\n",
       "  Age_Rollup_Detailed (Source: Profiling Questionnaire 2014)  \n",
       "0                                              50-54          \n",
       "1                                              45-49          \n",
       "2                                              35-39          \n",
       "3                                              45-49          \n",
       "4                                              70-74          \n",
       "\n",
       "[5 rows x 58 columns]"
      ]
     },
     "execution_count": 2,
     "metadata": {},
     "output_type": "execute_result"
    }
   ],
   "source": [
    "assess = pd.read_csv('Property_Assessment__Customer_Service__-_Edmonton_Insight_Community.csv')\n",
    "assess.head()"
   ]
  },
  {
   "cell_type": "code",
   "execution_count": 3,
   "metadata": {},
   "outputs": [
    {
     "data": {
      "text/plain": [
       "array([\"I don't recall\", 'I haven’t contacted the City',\n",
       "       'Within the last three years', nan, 'Within the last year',\n",
       "       'Within the last 6 months', 'Within the last 3 months'],\n",
       "      dtype=object)"
      ]
     },
     "execution_count": 3,
     "metadata": {},
     "output_type": "execute_result"
    }
   ],
   "source": [
    "assess.Q3_CityContact.unique()"
   ]
  },
  {
   "cell_type": "code",
   "execution_count": 4,
   "metadata": {},
   "outputs": [
    {
     "name": "stdout",
     "output_type": "stream",
     "text": [
      "The number of null responces for City Contact is = 367\n"
     ]
    }
   ],
   "source": [
    "dfnull = assess[assess.Q3_CityContact.isnull()]\n",
    "\n",
    "print('The number of null responces for City Contact is = {}'.format(len(dfnull)))"
   ]
  },
  {
   "cell_type": "code",
   "execution_count": 5,
   "metadata": {},
   "outputs": [
    {
     "name": "stdout",
     "output_type": "stream",
     "text": [
      "The number of no recall responces for City Contact is = 157\n"
     ]
    }
   ],
   "source": [
    "df_norecall = assess[assess.Q3_CityContact == \"I don't recall\"]\n",
    "\n",
    "print('The number of no recall responces for City Contact is = {}'.format(len(df_norecall)))"
   ]
  },
  {
   "cell_type": "code",
   "execution_count": 6,
   "metadata": {},
   "outputs": [
    {
     "name": "stdout",
     "output_type": "stream",
     "text": [
      "The number of no contact responces for City Contact is = 1468\n"
     ]
    }
   ],
   "source": [
    "df_nocontact = assess[assess.Q3_CityContact == \"I haven’t contacted the City\"]\n",
    "\n",
    "print('The number of no contact responces for City Contact is = {}'.format(len(df_nocontact)))"
   ]
  },
  {
   "cell_type": "code",
   "execution_count": 7,
   "metadata": {},
   "outputs": [
    {
     "name": "stdout",
     "output_type": "stream",
     "text": [
      "The number of contact responces for City Contact is = 305\n"
     ]
    }
   ],
   "source": [
    "df_contact = assess[~assess.Q3_CityContact.isnull()]\n",
    "df_contact = df_contact[~(df_contact.Q3_CityContact == \"I don't recall\")]\n",
    "df_contact = df_contact[~(df_contact.Q3_CityContact == \"I haven’t contacted the City\")]\n",
    "\n",
    "print('The number of contact responces for City Contact is = {}'.format(len(df_contact)))"
   ]
  },
  {
   "cell_type": "code",
   "execution_count": 8,
   "metadata": {},
   "outputs": [],
   "source": [
    "assign = df_contact['Q5_CommsAgreement_The City’s assessment team does a good job assigning property values']\n",
    "fair = df_contact['Q5_CommsAgreement_The assessed value of my property is fair']\n",
    "accurate = df_contact['Q5_CommsAgreement_The assessed value of my property is accurate']\n",
    "info = df_contact['Q5_CommsAgreement_Overall, I’m satisfied with access to property assessment information']\n",
    "\n",
    "assign = assign.sort_values()\n",
    "fair = fair.sort_values()\n",
    "accurate = accurate.sort_values()\n",
    "info = info.sort_values()"
   ]
  },
  {
   "cell_type": "code",
   "execution_count": 9,
   "metadata": {},
   "outputs": [
    {
     "name": "stdout",
     "output_type": "stream",
     "text": [
      "The number of null responces for: \n",
      "The City’s assessment team does a good job assigning property values is = \n",
      "305\n",
      "\n",
      "The number of null responces for: \n",
      "The assessed value of my property is fair is = \n",
      "305\n",
      "\n",
      "The number of null responces for: \n",
      "The assessed value of my property is accurate is = \n",
      "305\n",
      "\n",
      "The number of null responces for: \n",
      "Overall, I’m satisfied with access to property assessment information is = \n",
      "305\n"
     ]
    }
   ],
   "source": [
    "dfnull2 = assign.isnull()\n",
    "dfnull3 = fair.isnull()\n",
    "dfnull4 = accurate.isnull()\n",
    "dfnull5 = info.isnull()\n",
    "\n",
    "print('The number of null responces for: \\nThe City’s assessment team does a good job assigning property values is = \\n{}'.format(len(dfnull2)))\n",
    "print('\\nThe number of null responces for: \\nThe assessed value of my property is fair is = \\n{}'.format(len(dfnull3)))\n",
    "print('\\nThe number of null responces for: \\nThe assessed value of my property is accurate is = \\n{}'.format(len(dfnull4)))\n",
    "print('\\nThe number of null responces for: \\nOverall, I’m satisfied with access to property assessment information is = \\n{}'.format(len(dfnull5)))"
   ]
  },
  {
   "cell_type": "code",
   "execution_count": 10,
   "metadata": {},
   "outputs": [],
   "source": [
    "# Remove the 305 null responses in the dataset\n",
    "assign = assign[~assign.isnull()]\n",
    "fair = fair[~fair.isnull()]\n",
    "accurate = accurate[~accurate.isnull()]\n",
    "info = info[~info.isnull()]"
   ]
  },
  {
   "cell_type": "code",
   "execution_count": 17,
   "metadata": {},
   "outputs": [
    {
     "name": "stderr",
     "output_type": "stream",
     "text": [
      "/anaconda3/lib/python3.6/site-packages/matplotlib/cbook/deprecation.py:107: MatplotlibDeprecationWarning: Adding an axes using the same arguments as a previous axes currently reuses the earlier instance.  In a future version, a new instance will always be created and returned.  Meanwhile, this warning can be suppressed, and the future behavior ensured, by passing a unique label to each axes instance.\n",
      "  warnings.warn(message, mplDeprecation, stacklevel=1)\n"
     ]
    },
    {
     "data": {
      "image/png": "[encoded data removed]",
      "text/plain": [
       "<Figure size 720x576 with 1 Axes>"
      ]
     },
     "metadata": {},
     "output_type": "display_data"
    }
   ],
   "source": [
    "import matplotlib.pyplot as plt\n",
    "\n",
    "labels = assign.unique()\n",
    "\n",
    "def create_x(t, w, n, d):\n",
    "    '''n is n dataset (out of t)\n",
    "    t is Number of datasets\n",
    "    d is Number of sets of bars\n",
    "    w is Width of each bar'''\n",
    "    \n",
    "    return [t*x + w*n for x in range(d)]\n",
    "\n",
    "plt.figure(figsize=(10,8))\n",
    "\n",
    "store1_x = create_x(4, 0.8, 1, 6)\n",
    "_ = plt.bar(store1_x, assign.value_counts().values, label='assign', color='k')\n",
    "\n",
    "store2_x = create_x(4, 0.8, 2, 6)\n",
    "_ = plt.bar(store2_x, fair.value_counts().values, label='fair', color='grey')\n",
    "\n",
    "store3_x = create_x(4, 0.8, 3, 6)\n",
    "_ = plt.bar(store3_x, accurate.value_counts().values, label='accurate', color='c')\n",
    "\n",
    "store4_x = create_x(4, 0.8, 4, 6)\n",
    "_ = plt.bar(store4_x, info.value_counts().values, label='info', color='b')\n",
    "\n",
    "#create your ax object here\n",
    "ax = plt.subplot()\n",
    "middle_x = [(a + b + c + d) / 4.0 for a, b, c, d in zip(store1_x, store2_x, store3_x, store4_x)]\n",
    "_ = ax.set_xticks(middle_x)\n",
    "_ = ax.set_xticklabels(labels,rotation=60)\n",
    "\n",
    "_ = plt.title('Figure 1: Survey responses related to the \\nfair and accurate assigning of property assessments \\nand available information')\n",
    "_ = plt.ylabel('Number of Respondents')\n",
    "\n",
    "_ = plt.legend()\n",
    "\n",
    "plt.show()"
   ]
  },
  {
   "cell_type": "markdown",
   "metadata": {},
   "source": [
    "# Figure 1 Analysis\n",
    "\n",
    "The above graph visualizes the following survey questions:\n",
    "- **assign**: The City’s assessment team does a good job assigning property values\n",
    "- **fair**: The assessed value of my property is fair\n",
    "- **accurate**: The assessed value of my property is accurate\n",
    "- **info**: Overall, I’m satisfied with access to property assessment information\n",
    "\n",
    "We can see from the responses that those respondents that took a negative position (strongly or somewhat disagree) significantly outnumber the respondents who took a positive position (somewhat or strongly agree). In the next section we will look at a hypothesis test to extend this to all Edmonton property owners."
   ]
  },
  {
   "cell_type": "markdown",
   "metadata": {},
   "source": [
    "**Null Hypothesis**: 1 in 10 or 10% of Edmonton property owners disagree with the accuracy of their property assessments\n",
    "\n",
    "**Alternate Hypothesis**: > 10% disagree\n",
    "\n",
    "**Significance Level**: 0.01"
   ]
  },
  {
   "cell_type": "code",
   "execution_count": 12,
   "metadata": {},
   "outputs": [
    {
     "data": {
      "text/plain": [
       "2 Somewhat disagree             93\n",
       "3 Neither agree nor disagree    70\n",
       "4 Somewhat agree                66\n",
       "1 Strongly disagree             44\n",
       "5 Strongly agree                24\n",
       "Doesn't apply                    4\n",
       "Name: Q5_CommsAgreement_The assessed value of my property is accurate, dtype: int64"
      ]
     },
     "execution_count": 12,
     "metadata": {},
     "output_type": "execute_result"
    }
   ],
   "source": [
    "accurate.value_counts()"
   ]
  },
  {
   "cell_type": "code",
   "execution_count": 13,
   "metadata": {},
   "outputs": [
    {
     "data": {
      "text/plain": [
       "0.45514950166112955"
      ]
     },
     "execution_count": 13,
     "metadata": {},
     "output_type": "execute_result"
    }
   ],
   "source": [
    "sample_size = len(accurate)\n",
    "sample_proportion = (93 + 44) / sample_size\n",
    "sample_proportion"
   ]
  },
  {
   "cell_type": "code",
   "execution_count": 14,
   "metadata": {},
   "outputs": [],
   "source": [
    "import numpy as np"
   ]
  },
  {
   "cell_type": "code",
   "execution_count": 15,
   "metadata": {},
   "outputs": [
    {
     "data": {
      "text/plain": [
       "20.53871188419424"
      ]
     },
     "execution_count": 15,
     "metadata": {},
     "output_type": "execute_result"
    }
   ],
   "source": [
    "z = (sample_proportion - 0.1) / np.sqrt(0.1 * 0.9 / sample_size)\n",
    "\n",
    "z"
   ]
  },
  {
   "cell_type": "code",
   "execution_count": 16,
   "metadata": {},
   "outputs": [
    {
     "data": {
      "text/plain": [
       "25.534991324465008"
      ]
     },
     "execution_count": 16,
     "metadata": {},
     "output_type": "execute_result"
    }
   ],
   "source": [
    "0.4415 / 0.01729"
   ]
  },
  {
   "cell_type": "markdown",
   "metadata": {},
   "source": [
    "p-value ≈ 0\n",
    "\n",
    "Therefore, we reject the null hypothesis and conclude that significantly more than 10% of Edmonton property owners do not find their property assessments accurate. "
   ]
  }
 ],
 "metadata": {
  "kernelspec": {
   "display_name": "Python 3",
   "language": "python",
   "name": "python3"
  },
  "language_info": {
   "codemirror_mode": {
    "name": "ipython",
    "version": 3
   },
   "file_extension": ".py",
   "mimetype": "text/x-python",
   "name": "python",
   "nbconvert_exporter": "python",
   "pygments_lexer": "ipython3",
   "version": "3.6.5"
  }
 },
 "nbformat": 4,
 "nbformat_minor": 2
}
